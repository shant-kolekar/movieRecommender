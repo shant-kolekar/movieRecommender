{
 "cells": [
  {
   "cell_type": "code",
   "execution_count": 5,
   "id": "cb31f907",
   "metadata": {},
   "outputs": [],
   "source": [
    "from pyspark.sql import SparkSession\n",
    "import getpass\n",
    "\n",
    "username = getpass.getuser()\n",
    "\n",
    "spark = SparkSession. \\\n",
    "builder. \\\n",
    "config('spark.ui.port','0'). \\\n",
    "config(\"spark.sql.warehouse.dir\", f\"/user/{username}/warehouse\"). \\\n",
    "enableHiveSupport(). \\\n",
    "master('yarn'). \\\n",
    "getOrCreate()"
   ]
  },
  {
   "cell_type": "code",
   "execution_count": 6,
   "id": "8f8645d7",
   "metadata": {},
   "outputs": [
    {
     "data": {
      "text/html": [
       "\n",
       "            <div>\n",
       "                <p><b>SparkSession - hive</b></p>\n",
       "                \n",
       "        <div>\n",
       "            <p><b>SparkContext</b></p>\n",
       "\n",
       "            <p><a href=\"http://g01.itversity.com:43433\">Spark UI</a></p>\n",
       "\n",
       "            <dl>\n",
       "              <dt>Version</dt>\n",
       "                <dd><code>v3.1.2</code></dd>\n",
       "              <dt>Master</dt>\n",
       "                <dd><code>yarn</code></dd>\n",
       "              <dt>AppName</dt>\n",
       "                <dd><code>pyspark-shell</code></dd>\n",
       "            </dl>\n",
       "        </div>\n",
       "        \n",
       "            </div>\n",
       "        "
      ],
      "text/plain": [
       "<pyspark.sql.session.SparkSession at 0x7f52e88856a0>"
      ]
     },
     "execution_count": 6,
     "metadata": {},
     "output_type": "execute_result"
    }
   ],
   "source": [
    "spark"
   ]
  },
  {
   "cell_type": "markdown",
   "id": "7adf1777",
   "metadata": {},
   "source": [
    "### Import Libraries"
   ]
  },
  {
   "cell_type": "code",
   "execution_count": 7,
   "id": "a3084fda",
   "metadata": {},
   "outputs": [],
   "source": [
    "from time import time\n",
    "import csv\n",
    "import os\n",
    "\n",
    "import pyspark\n",
    "from pyspark.sql import *\n",
    "from pyspark.sql.types import *\n",
    "from pyspark.sql.functions import *\n",
    "from pyspark import SparkContext, SparkConf\n",
    "from pyspark.ml.recommendation import ALS,ALSModel\n",
    "from pyspark.ml.evaluation import RegressionEvaluator\n",
    "from pyspark.ml.tuning import TrainValidationSplit, ParamGridBuilder\n",
    "from pyspark.sql.window import Window"
   ]
  },
  {
   "cell_type": "markdown",
   "id": "2352e12f",
   "metadata": {},
   "source": [
    "### Schema Writing & Data Loading"
   ]
  },
  {
   "cell_type": "code",
   "execution_count": 14,
   "id": "2b49c111",
   "metadata": {},
   "outputs": [],
   "source": [
    "schema_ratings = StructType([\n",
    "    StructField(\"item_id\", IntegerType(), False),\n",
    "    StructField(\"user_id\", IntegerType(), False),\n",
    "    StructField(\"rating\", FloatType(), False)])\n",
    "\n",
    "\n",
    "schema_reviews = StructType([\n",
    "    StructField(\"item_id\", IntegerType(), False),\n",
    "    StructField(\"txt\", StringType(), False)])\n",
    "\n",
    "\n",
    "ratings_df = spark.read.json(\"/user/itv009301/movieDataset/ratings.json\", schema=schema_ratings)\n",
    "metadata_df = spark.read.option('inferschema', 'true').json(\"/user/itv009301/movieDataset/metadata.json\")\n",
    "reviews_df = spark.read.json(\"/user/itv009301/movieDataset/reviews.json\", schema=schema_reviews)\n",
    "metadata_updated_df = spark.read.option('inferschema', 'true').json(\"/user/itv009301/movieDataset/metadata_updated.json\")"
   ]
  },
  {
   "cell_type": "markdown",
   "id": "bba2ddbe",
   "metadata": {},
   "source": [
    "--------"
   ]
  },
  {
   "cell_type": "markdown",
   "id": "2c59db14",
   "metadata": {},
   "source": [
    "## Analysing Dataset"
   ]
  },
  {
   "cell_type": "markdown",
   "id": "7034a8cc",
   "metadata": {},
   "source": [
    "* Filter ratings dataframe\n",
    ">Filter records which are present in both ratings.json and metadata.json"
   ]
  },
  {
   "cell_type": "code",
   "execution_count": 15,
   "id": "1d6063bf",
   "metadata": {},
   "outputs": [],
   "source": [
    "filtered_combined_df = metadata_df.alias(\"m\").join(\n",
    "    ratings_df.alias(\"r\"),\n",
    "    metadata_df[\"item_id\"] == ratings_df[\"item_id\"],\n",
    "    \"inner\")\n",
    "filtered_ratings_df = filtered_combined_df.select(\"r.*\")\n",
    "print(\"Number of records before filtering: \",ratings_df.count())\n",
    "print(\"\\nNumber of records after filtering: \",filtered_ratings_df.count())"
   ]
  },
  {
   "cell_type": "markdown",
   "id": "a30e03ea",
   "metadata": {},
   "source": [
    "#Load the model\n",
    "modelPath = \n",
    "model = ALSModel.load(modelPath)"
   ]
  },
  {
   "cell_type": "markdown",
   "id": "c9ac526a",
   "metadata": {},
   "source": [
    ">Filtering values, keeping movies for which we have metadata and ratings both.\n",
    ">Save filtered metadata for Front End, saved with name `metadata_w_ratings_present.json`"
   ]
  },
  {
   "cell_type": "code",
   "execution_count": 7,
   "id": "456a1606",
   "metadata": {},
   "outputs": [],
   "source": [
    "joined_df = metadata_df.alias(\"m\").join(\n",
    "    ratings_df.alias(\"r\"),\n",
    "    metadata_df[\"item_id\"] == ratings_df[\"item_id\"],\n",
    "    \"inner\").select(\"m.*\")\n",
    "\n",
    "joined_df_distinct = joined_df.dropDuplicates()"
   ]
  },
  {
   "cell_type": "code",
   "execution_count": 8,
   "id": "40f6b7da",
   "metadata": {},
   "outputs": [],
   "source": [
    "joined_df_distinct.coalesce(1).write.json('/user/itv009301/movieDataset/metadata_w_ratings_present.json')"
   ]
  },
  {
   "cell_type": "code",
   "execution_count": 9,
   "id": "67aed4b8",
   "metadata": {},
   "outputs": [],
   "source": [
    "metadata_w_ratings_present_df = spark.read.\\\n",
    "    option('inferschema', 'true').json(\"/user/itv009301/movieDataset/metadata_w_ratings_present.json\")\n",
    "\n",
    "print('metadata_df Number of rows before filtering: ',metadata_df.count(),'\\nmetadata_df Number of rows after filtering:',\\\n",
    "        metadata_w_ratings_present_df.count())"
   ]
  },
  {
   "cell_type": "code",
   "execution_count": 10,
   "id": "cea20939",
   "metadata": {},
   "outputs": [],
   "source": [
    "ratings_df.where(ratings_df.item_id==41052)"
   ]
  },
  {
   "cell_type": "code",
   "execution_count": 11,
   "id": "4bb91139",
   "metadata": {},
   "outputs": [],
   "source": [
    "metadata_df.where(metadata_df.item_id==41052)"
   ]
  },
  {
   "cell_type": "markdown",
   "id": "ccb6df85",
   "metadata": {},
   "source": [
    "* It Seems evident that there is mismatch between movies ratings present in metadata.json and ratings.json because (66,959 < 84,661), so we will keep those movies which are present in both ratings.json and metadata.json\n",
    ">* For example, item_id = 41052 is present in ratings.json file but not in metadata.json\n"
   ]
  },
  {
   "cell_type": "markdown",
   "id": "9968eba3",
   "metadata": {},
   "source": [
    "#### Rating Scale"
   ]
  },
  {
   "cell_type": "code",
   "execution_count": 11,
   "id": "29c577fa",
   "metadata": {},
   "outputs": [],
   "source": [
    "min_max_ratings = ratings_df.agg(min(\"rating\").alias(\"min_rating\"), max(\"rating\").alias(\"max_rating\")).collect()\n",
    "\n",
    "# Extract the results\n",
    "min_rating = min_max_ratings[0][\"min_rating\"]\n",
    "max_rating = min_max_ratings[0][\"max_rating\"]\n",
    "\n",
    "print(f\"Minimum Rating: {min_rating}\")\n",
    "print(f\"Maximum Rating: {max_rating}\")"
   ]
  },
  {
   "cell_type": "code",
   "execution_count": 12,
   "id": "bdebd100",
   "metadata": {},
   "outputs": [],
   "source": [
    "unique_ratings = ratings_df.select(\"rating\").distinct().collect()\n",
    "\n",
    "# Extract the unique ratings\n",
    "unique_ratings_values = [row[\"rating\"] for row in unique_ratings]\n",
    "\n",
    "print(\"Unique Ratings:\", unique_ratings_values)"
   ]
  },
  {
   "cell_type": "markdown",
   "id": "e3f06c3b",
   "metadata": {},
   "source": [
    "#### User_id Range"
   ]
  },
  {
   "cell_type": "code",
   "execution_count": 13,
   "id": "3b362597",
   "metadata": {},
   "outputs": [],
   "source": [
    "min_max_user_id = ratings_df.agg(min(\"user_id\").alias(\"lowest_user_id\"), max(\"user_id\").alias(\"highest_user_id\"))\n",
    "\n",
    "min_max_user_id.show()\n",
    "\n",
    "# Extract the results\n",
    "min_user_id = min_max_user_id[0][\"lowest_user_id\"]\n",
    "max_user_id = min_max_user_id[0][\"highest_user_id\"]\n",
    "\n",
    "print(f\"Minimum User ID: {min_user_id}\")\n",
    "print(f\"Maximum User ID: {max_user_id}\")"
   ]
  },
  {
   "cell_type": "markdown",
   "id": "4e0a2d9c",
   "metadata": {},
   "source": [
    "> Range of user_id is between 0 and 999,999"
   ]
  },
  {
   "cell_type": "markdown",
   "id": "5adae82b",
   "metadata": {},
   "source": [
    "#### Number of Movies in the dataset"
   ]
  },
  {
   "cell_type": "code",
   "execution_count": 14,
   "id": "060eecd0",
   "metadata": {},
   "outputs": [],
   "source": [
    "n_movies_df = ratings_df.select('item_id').distinct()\n",
    "n_movies_df.count()"
   ]
  },
  {
   "cell_type": "markdown",
   "id": "8eb0aae2",
   "metadata": {},
   "source": [
    "> There are __67,873__ different movies"
   ]
  },
  {
   "cell_type": "markdown",
   "id": "35fabd88",
   "metadata": {},
   "source": [
    "#### Number of Users "
   ]
  },
  {
   "cell_type": "code",
   "execution_count": 15,
   "id": "fb15f955",
   "metadata": {},
   "outputs": [],
   "source": [
    "n_users_df = ratings_df.select('user_id').distinct()\n",
    "n_users_df.count()"
   ]
  },
  {
   "cell_type": "markdown",
   "id": "c8d5a3f3",
   "metadata": {},
   "source": [
    ">Number of unique users in the dataset are __247,383__"
   ]
  },
  {
   "cell_type": "markdown",
   "id": "90d8df29",
   "metadata": {},
   "source": [
    "> Different user_ids"
   ]
  },
  {
   "cell_type": "markdown",
   "id": "5292cd5e",
   "metadata": {},
   "source": [
    "|user_id|\n",
    "| --- | \n",
    "| 139379|\n",
    "| 440722|\n",
    "| 761354|\n",
    "| 882672|\n",
    "| 493421|\n",
    "| 992789|\n",
    "| 552403|\n",
    "| 254145|\n",
    "| 645332|\n",
    "| 538708|\n",
    "| 891619|\n",
    "| 700445|\n",
    "| 958971|\n",
    "| 133577|\n",
    "| 520983|\n",
    "| 994660|\n",
    "| 396707|\n",
    "| 146411|\n",
    "| 960415|\n",
    "| 110682|"
   ]
  },
  {
   "cell_type": "markdown",
   "id": "c292d8b4",
   "metadata": {},
   "source": [
    "### Get popular movie names"
   ]
  },
  {
   "cell_type": "code",
   "execution_count": 20,
   "id": "47e0a480",
   "metadata": {},
   "outputs": [
    {
     "name": "stdout",
     "output_type": "stream",
     "text": [
      "+---------+--------------------+-------+-------+--------------------+--------------------+-----+---------------+\n",
      "|avgRating|          directedBy| imdbId|item_id|            starring|               title|votes|popularity_rank|\n",
      "+---------+--------------------+-------+-------+--------------------+--------------------+-----+---------------+\n",
      "|  4.41985|      Frank Darabont|0111161|    318|Tim Robbins, Morg...|Shawshank Redempt...|98967|              1|\n",
      "|  4.06633|     Robert Zemeckis|0109830|    356|Tom Hanks, Gary S...| Forrest Gump (1994)|97772|              2|\n",
      "|   4.1876|   Quentin Tarantino|0110912|    296|John Travolta, Sa...| Pulp Fiction (1994)|93156|              3|\n",
      "|  4.15014|      Jonathan Demme|0102926|    593|Jodie Foster, Ant...|Silence of the La...|88573|              4|\n",
      "|  4.15952|Andy Wachowski, L...|0133093|   2571|Laurence Fishburn...|  Matrix, The (1999)|85431|              5|\n",
      "|  4.10145|        George Lucas|0076759|    260|Mark Hamill, Harr...|Star Wars: Episod...|82450|              6|\n",
      "|   3.6798|    Steven Spielberg|0107290|    480|Richard Attenboro...|Jurassic Park (1993)|76792|              7|\n",
      "|  4.24646|    Steven Spielberg|0108052|    527|Ralph Fiennes, Be...|Schindler's List ...|72143|              8|\n",
      "|  4.00003|          Mel Gibson|0112573|    110|Mel Gibson, Brian...|   Braveheart (1995)|69190|              9|\n",
      "|  3.89146|       John Lasseter|0114709|      1|Tim Allen, Tom Ha...|    Toy Story (1995)|68884|             10|\n",
      "|  4.23547|       David Fincher|0137523|   2959|Edward Norton, Br...|   Fight Club (1999)|66538|             11|\n",
      "|  3.98344|    Richard Marquand|0086190|   1210|Harrison Ford, Ma...|Star Wars: Episod...|66516|             12|\n",
      "|  4.12466|      Irvin Kershner|0080684|   1196|Mark Hamill, Harr...|Star Wars: Episod...|66449|             13|\n",
      "|  3.95565|       James Cameron|0103064|    589|Arnold Schwarzene...|Terminator 2: Jud...|64661|             14|\n",
      "|  4.10668|    Steven Spielberg|0082971|   1198|Harrison Ford, Ka...|Raiders of the Lo...|64069|             15|\n",
      "|  4.27727|        Bryan Singer|0114814|     50|Stephen Baldwin, ...|Usual Suspects, T...|62749|             16|\n",
      "|  4.09616|       Peter Jackson|0120737|   4993|Sean Astin, Cate ...|Lord of the Rings...|62701|             17|\n",
      "|  4.33078|Francis Ford Coppola|0068646|    858|Marlon Brando, Al...|Godfather, The (1...|61565|             18|\n",
      "|  4.10904|          Sam Mendes|0169547|   2858|Kevin Spacey,Anne...|American Beauty (...|61367|             19|\n",
      "|  3.39945|     Roland Emmerich|0116629|    780|Will Smith, Bill ...|Independence Day ...|59271|             20|\n",
      "+---------+--------------------+-------+-------+--------------------+--------------------+-----+---------------+\n",
      "only showing top 20 rows\n",
      "\n"
     ]
    }
   ],
   "source": [
    "top_most_voted_movies = filtered_ratings_df.groupBy('item_id').agg({'rating': 'count'})\n",
    "# Join with metadata_df and select the necessary columns\n",
    "top_most_voted_movies = metadata_df.alias(\"m\").join(\n",
    "    top_most_voted_movies.alias(\"r\"),\n",
    "    col(\"m.item_id\") == col(\"r.item_id\"),\n",
    "    \"inner\"\n",
    ").select(\"m.*\", col(\"r.count(rating)\").alias(\"votes\"))\n",
    "\n",
    "# Create a Window specification to define the ranking order\n",
    "windowSpec = Window.orderBy(col(\"votes\").desc())\n",
    "\n",
    "# Add a new column \"popularity_rank\" with the popularity rank\n",
    "top_most_voted_movies = top_most_voted_movies.withColumn(\"popularity_rank\", rank().over(windowSpec))\n",
    "top_most_voted_movies = top_most_voted_movies.drop('dateAdded')\n",
    "\n",
    "# # Order by the count of ratings in descending order\n",
    "# top_most_voted_movies = top_most_voted_movies = top_most_voted_movies.orderBy(col(\"votes\").desc()).limit(1000)\n",
    "top_most_voted_movies.show()\n",
    "top_most_voted_movies.coalesce(1).write.json('/user/itv009301/movieDataset/metadata_with_popularity_rank.json')"
   ]
  },
  {
   "cell_type": "markdown",
   "id": "8d3f0565",
   "metadata": {},
   "source": [
    "\n",
    "|item_id|count(rating)|title_count     |\n",
    "|------|------|---------|\n",
    "|318    |98967        |Shawshank Redemption, The (1994)                                              |\n",
    "|356    |97772        |Forrest Gump (1994)                                                           |\n",
    "|296    |93156        |Pulp Fiction (1994)                                                           |\n",
    "|593    |88573        |Silence of the Lambs, The (1991)                                              |\n",
    "|2571   |85431        |Matrix, The (1999)                                                            |\n",
    "|260    |82450        |Star Wars: Episode IV - A New Hope (1977)                                     |\n",
    "|480    |76792        |Jurassic Park (1993)                                                          |\n",
    "|527    |72143        |Schindler's List (1993)                                                       |\n",
    "|110    |69190        |Braveheart (1995)                                                             |\n",
    "|1      |68884        |Toy Story (1995)                                                              |\n",
    "|2959   |66538        |Fight Club (1999)                                                             |\n",
    "|1210   |66516        |Star Wars: Episode VI - Return of the Jedi (1983)                             |\n",
    "|1196   |66449        |Star Wars: Episode V - The Empire Strikes Back (1980)                         |\n",
    "|589    |64661        |Terminator 2: Judgment Day (1991)                                             |\n",
    "|1198   |64069        |Raiders of the Lost Ark (Indiana Jones and the Raiders of the Lost Ark) (1981)|\n",
    "|50     |62749        |Usual Suspects, The (1995)                                                    |\n",
    "|4993   |62701        |Lord of the Rings: The Fellowship of the Ring, The (2001)                     |\n",
    "|858    |61565        |Godfather, The (1972)                                                         |\n",
    "|2858   |61367        |American Beauty (1999)                                                        |\n",
    "|780    |59271        |Independence Day (a.k.a. ID4) (1996)                                          |"
   ]
  },
  {
   "cell_type": "markdown",
   "id": "56edb119",
   "metadata": {},
   "source": [
    "#### Find movie names from item_id"
   ]
  },
  {
   "cell_type": "code",
   "execution_count": 18,
   "id": "e6380647",
   "metadata": {},
   "outputs": [],
   "source": [
    "item = 5349\n",
    "metadata_df.where(metadata_df.item_id==item)"
   ]
  },
  {
   "cell_type": "markdown",
   "id": "f4361a3b",
   "metadata": {},
   "source": [
    "---------"
   ]
  },
  {
   "cell_type": "markdown",
   "id": "fd303d51",
   "metadata": {},
   "source": [
    "### Model Training using Parameter Grid Search"
   ]
  },
  {
   "cell_type": "code",
   "execution_count": 20,
   "id": "a37cad3d",
   "metadata": {},
   "outputs": [],
   "source": [
    "<!-- # time  -->\n",
    "t0 = time()\n",
    "print(\"Model training using Grid Search in process.....\")\n",
    "\n",
    "<!-- # Initialize the ALS model -->\n",
    "als = ALS(userCol=\"user_id\", itemCol=\"item_id\", ratingCol=\"rating\", \\\n",
    "          coldStartStrategy=\"drop\", nonnegative=True)\n",
    "\n",
    "<!-- # Tune model using ParamGridBuilder -->\n",
    "param_grid = ParamGridBuilder()\\\n",
    "                .addGrid(als.rank, [12,13,14])\\\n",
    "                .addGrid(als.maxIter, [18,19,20])\\\n",
    "                .addGrid(als.regParam, [.17,.18,.19])\\\n",
    "                .build()\n",
    "#Define evaluator as RMSE\n",
    "evaluator = RegressionEvaluator(metricName=\"rmse\", labelCol=\"rating\", \\\n",
    "                                predictionCol=\"prediction\")\n",
    "\n",
    "#Build cross validation usin TrainValidationSplit\n",
    "tvs = TrainValidationSplit(estimator=als,\\\n",
    "                          estimatorParamMaps=param_grid,\\\n",
    "                          evaluator=evaluator)\n",
    "\n",
    "#Fit ALS model to training data\n",
    "model = tvs.fit(training_df)\n",
    "\n",
    "#Extract best model from the tuning exercise using ParamGridBuilder\n",
    "best_model = model.bestModel\n",
    "\n",
    "#Generate predictions and evaluate using RMSE\n",
    "predictions = best_model.transform(testing_df)\n",
    "rmse = evaluator.evaluate(predictions)\n",
    "\n",
    "#print evaluation metrics and model parameters\n",
    "print(\"RMSE = \" + str(rmse))\n",
    "print(\"**Best Model**\")\n",
    "print(\" Rank:\", best_model.rank)\n",
    "print(\" MaxIter:\", best_model.__java_obj.parent().getMaxIter())\n",
    "print(\" RegParam:\", best_model.__java_obj.parent().getRegParam())\n",
    "\n",
    "print(\"Grid Search model trained in seconds\", time()-t0)"
   ]
  },
  {
   "cell_type": "code",
   "execution_count": 22,
   "id": "ca19cdcc",
   "metadata": {},
   "outputs": [],
   "source": [
    "spark.stop()"
   ]
  },
  {
   "cell_type": "code",
   "execution_count": null,
   "id": "903b0e3d",
   "metadata": {},
   "outputs": [],
   "source": []
  }
 ],
 "metadata": {
  "kernelspec": {
   "display_name": "Pyspark 3",
   "language": "python",
   "name": "pyspark3"
  },
  "language_info": {
   "codemirror_mode": {
    "name": "ipython",
    "version": 3
   },
   "file_extension": ".py",
   "mimetype": "text/x-python",
   "name": "python",
   "nbconvert_exporter": "python",
   "pygments_lexer": "ipython3",
   "version": "3.6.12"
  }
 },
 "nbformat": 4,
 "nbformat_minor": 5
}
